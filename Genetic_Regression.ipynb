{
 "cells": [
  {
   "cell_type": "markdown",
   "metadata": {},
   "source": [
    "This part creats random data and plot a polynomial with degree 3"
   ]
  },
  {
   "cell_type": "code",
   "execution_count": 1,
   "metadata": {},
   "outputs": [
    {
     "data": {
      "text/plain": [
       "<Figure size 640x480 with 1 Axes>"
      ]
     },
     "metadata": {},
     "output_type": "display_data"
    }
   ],
   "source": [
    "\n",
    "import numpy as np\n",
    "import matplotlib.pyplot as plt\n",
    "import pandas as pd\n",
    "\n",
    "y = pd.read_csv(\"test2.csv\")\n",
    "y = y.values\n",
    "# np.random.seed(0)\n",
    "# x = 2 - 3 * np.random.normal(0, 1, 100)\n",
    "# y = x - 2 * (x ** 2) + 0.5 * (x ** 3) + 1\n",
    "# np.random.normal(-3, 3, 100)\n",
    "# y = x[np.arange(0, x.shape[0], 2), :]\n",
    "# x = x[np.arange(1, x.shape[0], 2), :]\n",
    "\n",
    "# print(y.shape[0])\n",
    "x = np.arange(0,9.9, 0.1)\n",
    "\n",
    "# transforming the data to include another axis\n",
    "x = x[:, np.newaxis]\n",
    "y = y[:, np.newaxis]\n",
    "\n",
    "plt.scatter(x, y, s=10)\n",
    "plt.show()"
   ]
  },
  {
   "cell_type": "markdown",
   "metadata": {},
   "source": [
    "MSE calculates MSE for each individual"
   ]
  },
  {
   "cell_type": "code",
   "execution_count": 2,
   "metadata": {},
   "outputs": [],
   "source": [
    "def MSE(model, x, y):\n",
    "    y_i = model.a[0] + model.a[1]*x + model.a[2]*(x**2) + model.a[3]*(x**3)\n",
    "    n = x.shape[0]\n",
    "    return (1/n)*np.sum((y_i - y)**2)\n",
    "    "
   ]
  },
  {
   "cell_type": "markdown",
   "metadata": {},
   "source": [
    "Individual"
   ]
  },
  {
   "cell_type": "code",
   "execution_count": 3,
   "metadata": {},
   "outputs": [],
   "source": [
    "class Model:\n",
    "    def __init__(self, a):\n",
    "        self.a = a\n",
    "        self.fitness = 0\n",
    "    \n",
    "    def calculateFitness(self, x, y):\n",
    "        self.fitness = 1/(1+MSE(self, x, y))\n",
    "    \n",
    "        \n",
    "    "
   ]
  },
  {
   "cell_type": "code",
   "execution_count": 4,
   "metadata": {},
   "outputs": [],
   "source": [
    "def CreatePopulation(population_size, x, y):\n",
    "    model = []\n",
    "    for i in range(population_size):\n",
    "        a = np.random.randn(4)*2\n",
    "        m = Model(a)\n",
    "        m.calculateFitness(x, y)\n",
    "        model.append(m)\n",
    "    return model"
   ]
  },
  {
   "cell_type": "code",
   "execution_count": 5,
   "metadata": {},
   "outputs": [],
   "source": [
    "def  tornumentSelection(population, k, population_size):\n",
    "    new_population = []\n",
    "    for i in range(population_size):\n",
    "        tornument = []\n",
    "        for j in range(k):\n",
    "            index = np.random.randint(population_size)\n",
    "            tornument.append(population[index])\n",
    "        best = tornument[0]\n",
    "        for m in tornument:\n",
    "            if best.fitness < m.fitness:\n",
    "                best = m\n",
    "        new_population.append(best)\n",
    "    return new_population\n",
    "    "
   ]
  },
  {
   "cell_type": "code",
   "execution_count": 6,
   "metadata": {},
   "outputs": [],
   "source": [
    "def cross_over(population, population_size, x, y):\n",
    "    for i in range(population_size):\n",
    "        for j in range(i + 1, population_size):\n",
    "            parent1 = population[i]\n",
    "            parent2 = population[j]\n",
    "            b = parent1.a.copy()\n",
    "            b[::2] = parent2.a[::2]            \n",
    "            m = Model(b)\n",
    "            m.calculateFitness(x, y)\n",
    "            population.append(m)\n",
    "            \n",
    "    return population\n",
    "            "
   ]
  },
  {
   "cell_type": "code",
   "execution_count": 7,
   "metadata": {},
   "outputs": [],
   "source": [
    "def mutation(population, prob, sigma):\n",
    "    for chrom in population:\n",
    "        for i in range(len(chrom.a)):\n",
    "            r = np.random.random()\n",
    "            if(r < prob): \n",
    "                chrom.a[i] += np.random.normal(0, sigma)\n",
    "                chrom.calculateFitness(x, y)"
   ]
  },
  {
   "cell_type": "code",
   "execution_count": 8,
   "metadata": {},
   "outputs": [],
   "source": [
    "def returning(population, population_size):\n",
    "    new_population = []\n",
    "    for j in range(population_size):\n",
    "        for i in range(len(population)):\n",
    "            best = population[0]\n",
    "            if(best.fitness < population[i].fitness):\n",
    "                best = population[i]\n",
    "        new_population.append(best)\n",
    "    return new_population"
   ]
  },
  {
   "cell_type": "code",
   "execution_count": 9,
   "metadata": {},
   "outputs": [],
   "source": [
    "def GeneticAlgorithm(numberOfGenerations, populationSize, tornumentSize, mutationRate, sigma, x, y):\n",
    "    population = CreatePopulation(populationSize, x, y)\n",
    "    for i in range(numberOfGenerations):\n",
    "        print(i)\n",
    "        population = tornumentSelection(population, tornumentSize, populationSize)\n",
    "        population = cross_over(population, populationSize, x, y)\n",
    "        mutation(population, mutationRate, sigma)\n",
    "        population = returning(population, populationSize)\n",
    "        bestChild = getBest(population)\n",
    "        print(bestChild.fitness)\n",
    "    return bestChild"
   ]
  },
  {
   "cell_type": "markdown",
   "metadata": {},
   "source": [
    "Get best individual from population after running the algorithm"
   ]
  },
  {
   "cell_type": "code",
   "execution_count": 10,
   "metadata": {},
   "outputs": [],
   "source": [
    "def getBest(population):\n",
    "    best = population[0]\n",
    "    for child in population:\n",
    "        if(best.fitness < child.fitness):\n",
    "            best = child\n",
    "    return best"
   ]
  },
  {
   "cell_type": "code",
   "execution_count": 11,
   "metadata": {},
   "outputs": [],
   "source": [
    "def draw(x, y, model):\n",
    "    # transforming the data to include another axis\n",
    "#     x = x[:, np.newaxis]\n",
    "#     y = y[:, np.newaxis]\n",
    "    y_pred = model.a[0] + model.a[1]*x + model.a[2]*(x**2) + model.a[3]*(x**3)\n",
    "#     y_pred.reshape([100])\n",
    "#     print(y_pred)\n",
    "    temp = np.ndarray.tolist(x.reshape(99))\n",
    "    temp_y = np.ndarray.tolist(y_pred.reshape(99))\n",
    "    order = np.argsort(temp)\n",
    "    \n",
    "    xs = np.array(temp)[order]\n",
    "    ys = np.array(temp_y)[order]\n",
    "    plt.scatter(x, y, s=10)\n",
    "    plt.plot(xs, ys, color='r')\n",
    "    plt.show()"
   ]
  },
  {
   "cell_type": "code",
   "execution_count": 12,
   "metadata": {},
   "outputs": [],
   "source": [
    "numberOfGenerations = 50 \n",
    "populationSize = 50 \n",
    "tornumentSize = 3 \n",
    "# mutationRate = 0.01,# 0.02, 0.05, 0.1 \n",
    "# sigma =  1e-3, # 1e-2,  1e-1,  1,  10\n",
    "\n",
    "\n"
   ]
  },
  {
   "cell_type": "markdown",
   "metadata": {},
   "source": [
    "Running Genetic algorithm and get the best individual"
   ]
  },
  {
   "cell_type": "code",
   "execution_count": 13,
   "metadata": {},
   "outputs": [
    {
     "name": "stdout",
     "output_type": "stream",
     "text": [
      "0\n",
      "1.2215927880740462e-07\n",
      "1\n",
      "1.2215927880740462e-07\n",
      "2\n",
      "1.2255067333363238e-07\n",
      "3\n",
      "1.2255067333363238e-07\n",
      "4\n",
      "1.2280038467069125e-07\n",
      "5\n",
      "1.228737158978138e-07\n",
      "6\n",
      "1.228737158978138e-07\n",
      "7\n",
      "1.228737158978138e-07\n",
      "8\n",
      "1.233479242540011e-07\n",
      "9\n",
      "1.233479242540011e-07\n",
      "10\n",
      "1.233479242540011e-07\n",
      "11\n",
      "1.233479242540011e-07\n",
      "12\n",
      "1.233479242540011e-07\n",
      "13\n",
      "1.2455780983967775e-07\n",
      "14\n",
      "1.246897542338921e-07\n",
      "15\n",
      "1.246897542338921e-07\n",
      "16\n",
      "1.2476665968389758e-07\n",
      "17\n",
      "1.2597599719011435e-07\n",
      "18\n",
      "1.265603479016634e-07\n",
      "19\n",
      "1.2727922340535024e-07\n",
      "20\n",
      "1.2767647412422314e-07\n",
      "21\n",
      "1.2767647412422314e-07\n",
      "22\n",
      "1.2767647412422314e-07\n",
      "23\n",
      "1.2767647412422314e-07\n",
      "24\n",
      "1.278469187134079e-07\n",
      "25\n",
      "1.2814407617544635e-07\n",
      "26\n",
      "1.2814407617544635e-07\n",
      "27\n",
      "1.2825104094381743e-07\n",
      "28\n",
      "1.2797356208420945e-07\n",
      "29\n",
      "1.2797356208420945e-07\n",
      "30\n",
      "1.2802807128673366e-07\n",
      "31\n",
      "1.2802807128673366e-07\n",
      "32\n",
      "1.290697770596978e-07\n",
      "33\n",
      "1.290697770596978e-07\n",
      "34\n",
      "1.294434788440768e-07\n",
      "35\n",
      "1.2997099263240133e-07\n",
      "36\n",
      "1.3001920483572563e-07\n",
      "37\n",
      "1.3024145308271455e-07\n",
      "38\n",
      "1.3018290604081163e-07\n",
      "39\n",
      "1.3036360395504508e-07\n",
      "40\n",
      "1.3036360395504508e-07\n",
      "41\n",
      "1.3036360395504508e-07\n",
      "42\n",
      "1.3036360395504508e-07\n",
      "43\n",
      "1.3036360395504508e-07\n",
      "44\n",
      "1.3036360395504508e-07\n",
      "45\n",
      "1.3036360395504508e-07\n",
      "46\n",
      "1.3036360395504508e-07\n",
      "47\n",
      "1.3077563099745132e-07\n",
      "48\n",
      "1.3077522803934993e-07\n",
      "49\n",
      "1.309058695511876e-07\n"
     ]
    },
    {
     "data": {
      "image/png": "[encoded data removed]",
      "text/plain": [
       "<Figure size 432x288 with 1 Axes>"
      ]
     },
     "metadata": {
      "needs_background": "light"
     },
     "output_type": "display_data"
    },
    {
     "data": {
      "text/plain": [
       "1.309058695511876e-07"
      ]
     },
     "execution_count": 13,
     "metadata": {},
     "output_type": "execute_result"
    }
   ],
   "source": [
    "mutationRate = 0.05\n",
    "sigma =  1e-3\n",
    "model = GeneticAlgorithm(numberOfGenerations, populationSize, tornumentSize, mutationRate, sigma, x, y)\n",
    "draw(x, y, model)\n",
    "model.fitness"
   ]
  },
  {
   "cell_type": "code",
   "execution_count": 14,
   "metadata": {},
   "outputs": [
    {
     "name": "stdout",
     "output_type": "stream",
     "text": [
      "0\n",
      "5.064167578099613e-07\n",
      "1\n",
      "5.066747642598973e-07\n",
      "2\n",
      "5.072697887827888e-07\n",
      "3\n",
      "5.079020076352876e-07\n",
      "4\n",
      "5.079020076352876e-07\n",
      "5\n",
      "5.079020076352876e-07\n",
      "6\n",
      "5.079020076352876e-07\n",
      "7\n",
      "5.079020076352876e-07\n",
      "8\n",
      "5.079020076352876e-07\n",
      "9\n",
      "5.079020076352876e-07\n",
      "10\n",
      "5.079076367551694e-07\n",
      "11\n",
      "5.079076367551694e-07\n",
      "12\n",
      "5.079076367551694e-07\n",
      "13\n",
      "5.091680958087408e-07\n",
      "14\n",
      "5.091680958087408e-07\n",
      "15\n",
      "5.091680958087408e-07\n",
      "16\n",
      "5.107895841973268e-07\n",
      "17\n",
      "5.108732456622698e-07\n",
      "18\n",
      "5.108732456622698e-07\n",
      "19\n",
      "5.108732456622698e-07\n",
      "20\n",
      "5.108732456622698e-07\n",
      "21\n",
      "5.109954145986802e-07\n",
      "22\n",
      "5.109954145986802e-07\n",
      "23\n",
      "5.109954145986802e-07\n",
      "24\n",
      "5.109954145986802e-07\n",
      "25\n",
      "5.109954145986802e-07\n",
      "26\n",
      "5.114419836918917e-07\n",
      "27\n",
      "5.114419836918917e-07\n",
      "28\n",
      "5.114419836918917e-07\n",
      "29\n",
      "5.114419836918917e-07\n",
      "30\n",
      "5.114419836918917e-07\n",
      "31\n",
      "5.114419836918917e-07\n",
      "32\n",
      "5.114419836918917e-07\n",
      "33\n",
      "5.114419836918917e-07\n",
      "34\n",
      "5.11792212727177e-07\n",
      "35\n",
      "5.11792212727177e-07\n",
      "36\n",
      "5.11792212727177e-07\n",
      "37\n",
      "5.11792212727177e-07\n",
      "38\n",
      "5.117960604984291e-07\n",
      "39\n",
      "5.129212295371567e-07\n",
      "40\n",
      "5.129212295371567e-07\n",
      "41\n",
      "5.143943308137056e-07\n",
      "42\n",
      "5.153579115100092e-07\n",
      "43\n",
      "5.153579115100092e-07\n",
      "44\n",
      "5.174558590342107e-07\n",
      "45\n",
      "5.174558590342107e-07\n",
      "46\n",
      "5.178403156026278e-07\n",
      "47\n",
      "5.178403156026278e-07\n",
      "48\n",
      "5.178403156026278e-07\n",
      "49\n",
      "5.179963945287308e-07\n"
     ]
    },
    {
     "data": {
      "image/png": "[encoded data removed]",
      "text/plain": [
       "<Figure size 432x288 with 1 Axes>"
      ]
     },
     "metadata": {
      "needs_background": "light"
     },
     "output_type": "display_data"
    },
    {
     "data": {
      "text/plain": [
       "5.179963945287308e-07"
      ]
     },
     "execution_count": 14,
     "metadata": {},
     "output_type": "execute_result"
    }
   ],
   "source": [
    "mutationRate = 0.01\n",
    "sigma =  1e-3\n",
    "model = GeneticAlgorithm(numberOfGenerations, populationSize, tornumentSize, mutationRate, sigma, x, y)\n",
    "draw(x, y, model)\n",
    "model.fitness"
   ]
  },
  {
   "cell_type": "code",
   "execution_count": 15,
   "metadata": {},
   "outputs": [
    {
     "name": "stdout",
     "output_type": "stream",
     "text": [
      "0\n",
      "3.356549390358952e-07\n",
      "1\n",
      "3.393109188785424e-07\n",
      "2\n",
      "3.4381922376258716e-07\n",
      "3\n",
      "3.4381922376258716e-07\n",
      "4\n",
      "3.4960352483218836e-07\n",
      "5\n",
      "3.4960352483218836e-07\n",
      "6\n",
      "3.503077499261798e-07\n",
      "7\n",
      "3.537320515088655e-07\n",
      "8\n",
      "3.562593900998122e-07\n",
      "9\n",
      "3.562593900998122e-07\n",
      "10\n",
      "3.564953413436234e-07\n",
      "11\n",
      "3.6065043599026715e-07\n",
      "12\n",
      "3.604526713261039e-07\n",
      "13\n",
      "3.604526713261039e-07\n",
      "14\n",
      "3.6191735771493095e-07\n",
      "15\n",
      "3.6191735771493095e-07\n",
      "16\n",
      "3.6191735771493095e-07\n",
      "17\n",
      "3.6191735771493095e-07\n",
      "18\n",
      "3.636749637762231e-07\n",
      "19\n",
      "3.6496019949058723e-07\n",
      "20\n",
      "3.6689778730498507e-07\n",
      "21\n",
      "3.6860437629592425e-07\n",
      "22\n",
      "3.683475011088253e-07\n",
      "23\n",
      "3.7049123519135815e-07\n",
      "24\n",
      "3.716290908693637e-07\n",
      "25\n",
      "3.741319470224163e-07\n",
      "26\n",
      "3.760911482434418e-07\n",
      "27\n",
      "3.798405279089394e-07\n",
      "28\n",
      "3.798405279089394e-07\n",
      "29\n",
      "3.798405279089394e-07\n",
      "30\n",
      "3.804503573839779e-07\n",
      "31\n",
      "3.804503573839779e-07\n",
      "32\n",
      "3.804503573839779e-07\n",
      "33\n",
      "3.832510659211817e-07\n",
      "34\n",
      "3.8424558706414855e-07\n",
      "35\n",
      "3.8536880829194963e-07\n",
      "36\n",
      "3.856190838312982e-07\n",
      "37\n",
      "3.885077315183155e-07\n",
      "38\n",
      "3.8958396449313814e-07\n",
      "39\n",
      "3.8958396449313814e-07\n",
      "40\n",
      "3.956761921888764e-07\n",
      "41\n",
      "3.966350069971453e-07\n",
      "42\n",
      "3.96635585953271e-07\n",
      "43\n",
      "4.0011862815650857e-07\n",
      "44\n",
      "3.9833888199373966e-07\n",
      "45\n",
      "4.041757276277427e-07\n",
      "46\n",
      "4.0681947982109315e-07\n",
      "47\n",
      "4.0681546566894676e-07\n",
      "48\n",
      "4.1072108066477307e-07\n",
      "49\n",
      "4.1233590029375987e-07\n"
     ]
    },
    {
     "data": {
      "image/png": "[encoded data removed]",
      "text/plain": [
       "<Figure size 432x288 with 1 Axes>"
      ]
     },
     "metadata": {
      "needs_background": "light"
     },
     "output_type": "display_data"
    },
    {
     "data": {
      "text/plain": [
       "4.1233590029375987e-07"
      ]
     },
     "execution_count": 15,
     "metadata": {},
     "output_type": "execute_result"
    }
   ],
   "source": [
    "mutationRate = 0.1\n",
    "sigma =  1e-3\n",
    "model = GeneticAlgorithm(numberOfGenerations, populationSize, tornumentSize, mutationRate, sigma, x, y)\n",
    "draw(x, y, model)\n",
    "model.fitness"
   ]
  },
  {
   "cell_type": "code",
   "execution_count": 18,
   "metadata": {},
   "outputs": [
    {
     "name": "stdout",
     "output_type": "stream",
     "text": [
      "0\n",
      "5.2087857378764894e-09\n",
      "1\n",
      "5.2087857378764894e-09\n",
      "2\n",
      "5.2208173633855266e-09\n",
      "3\n",
      "5.2208173633855266e-09\n",
      "4\n",
      "5.2208173633855266e-09\n",
      "5\n",
      "5.2208173633855266e-09\n",
      "6\n",
      "5.2208173633855266e-09\n",
      "7\n",
      "5.2311759578263574e-09\n",
      "8\n",
      "5.2311759578263574e-09\n",
      "9\n",
      "5.2311759578263574e-09\n",
      "10\n",
      "5.2311759578263574e-09\n",
      "11\n",
      "5.2311759578263574e-09\n",
      "12\n",
      "5.237314259850221e-09\n",
      "13\n",
      "5.440237026901612e-09\n",
      "14\n",
      "5.457396429961464e-09\n",
      "15\n",
      "5.505720310067415e-09\n",
      "16\n",
      "5.511230999287782e-09\n",
      "17\n",
      "5.511230999287782e-09\n",
      "18\n",
      "5.5116534035202205e-09\n",
      "19\n",
      "5.5116534035202205e-09\n",
      "20\n",
      "5.663912165136355e-09\n",
      "21\n",
      "5.663912165136355e-09\n",
      "22\n",
      "5.663912165136355e-09\n",
      "23\n",
      "5.663912165136355e-09\n",
      "24\n",
      "5.663912165136355e-09\n",
      "25\n",
      "5.663912165136355e-09\n",
      "26\n",
      "5.664303752084018e-09\n",
      "27\n",
      "5.665350016016667e-09\n",
      "28\n",
      "5.914929532972683e-09\n",
      "29\n",
      "5.914929532972683e-09\n",
      "30\n",
      "5.914929532972683e-09\n",
      "31\n",
      "5.914929532972683e-09\n",
      "32\n",
      "5.914929532972683e-09\n",
      "33\n",
      "6.353929882428423e-09\n",
      "34\n",
      "6.353929882428423e-09\n",
      "35\n",
      "6.353929882428423e-09\n",
      "36\n",
      "6.353929882428423e-09\n",
      "37\n",
      "6.353929882428423e-09\n",
      "38\n",
      "6.353929882428423e-09\n",
      "39\n",
      "6.353929882428423e-09\n",
      "40\n",
      "6.700691981832271e-09\n",
      "41\n",
      "6.716942877387546e-09\n",
      "42\n",
      "6.718207652955383e-09\n",
      "43\n",
      "6.723087252821562e-09\n",
      "44\n",
      "6.723087252821562e-09\n",
      "45\n",
      "6.727168417821619e-09\n",
      "46\n",
      "6.727168417821619e-09\n",
      "47\n",
      "6.727168417821619e-09\n",
      "48\n",
      "6.727168417821619e-09\n",
      "49\n",
      "6.727168417821619e-09\n"
     ]
    },
    {
     "data": {
      "image/png": "[encoded data removed]",
      "text/plain": [
       "<Figure size 432x288 with 1 Axes>"
      ]
     },
     "metadata": {
      "needs_background": "light"
     },
     "output_type": "display_data"
    },
    {
     "data": {
      "text/plain": [
       "6.727168417821619e-09"
      ]
     },
     "execution_count": 18,
     "metadata": {},
     "output_type": "execute_result"
    }
   ],
   "source": [
    "mutationRate = 0.01\n",
    "sigma =  1e-1\n",
    "model = GeneticAlgorithm(numberOfGenerations, populationSize, tornumentSize, mutationRate, sigma, x, y)\n",
    "draw(x, y, model)\n",
    "model.fitness"
   ]
  },
  {
   "cell_type": "code",
   "execution_count": 21,
   "metadata": {},
   "outputs": [
    {
     "name": "stdout",
     "output_type": "stream",
     "text": [
      "0\n",
      "5.7105675821968165e-08\n",
      "1\n",
      "5.7105675821968165e-08\n",
      "2\n",
      "5.7105675821968165e-08\n",
      "3\n",
      "5.7105675821968165e-08\n",
      "4\n",
      "5.7105675821968165e-08\n",
      "5\n",
      "5.7105675821968165e-08\n",
      "6\n",
      "2.5179709900347674e-09\n",
      "7\n",
      "1.7682655077429025e-08\n",
      "8\n",
      "1.7682655077429025e-08\n",
      "9\n",
      "2.6711023238750147e-08\n",
      "10\n",
      "2.6711023238750147e-08\n",
      "11\n",
      "2.6711023238750147e-08\n",
      "12\n",
      "2.6711023238750147e-08\n",
      "13\n",
      "2.6711023238750147e-08\n",
      "14\n",
      "2.6711023238750147e-08\n",
      "15\n",
      "2.6711023238750147e-08\n",
      "16\n",
      "2.6711023238750147e-08\n",
      "17\n",
      "2.6711023238750147e-08\n",
      "18\n",
      "2.6711023238750147e-08\n",
      "19\n",
      "2.6450521373668518e-08\n",
      "20\n",
      "2.6450521373668518e-08\n",
      "21\n",
      "2.6450521373668518e-08\n",
      "22\n",
      "2.6450521373668518e-08\n",
      "23\n",
      "2.6450521373668518e-08\n",
      "24\n",
      "3.220645564301365e-08\n",
      "25\n",
      "3.147458168436101e-08\n",
      "26\n",
      "3.147458168436101e-08\n",
      "27\n",
      "3.4105319537947454e-08\n",
      "28\n",
      "3.4105319537947454e-08\n",
      "29\n",
      "3.4105319537947454e-08\n",
      "30\n",
      "3.4105319537947454e-08\n",
      "31\n",
      "1.134087460344187e-07\n",
      "32\n",
      "1.134087460344187e-07\n",
      "33\n",
      "1.4343192602020293e-07\n",
      "34\n",
      "1.4343192602020293e-07\n",
      "35\n",
      "1.4343192602020293e-07\n",
      "36\n",
      "1.4003732503905194e-07\n",
      "37\n",
      "1.4003732503905194e-07\n",
      "38\n",
      "1.4003732503905194e-07\n",
      "39\n",
      "1.4003732503905194e-07\n",
      "40\n",
      "1.4003732503905194e-07\n",
      "41\n",
      "1.4003732503905194e-07\n",
      "42\n",
      "1.4003732503905194e-07\n",
      "43\n",
      "1.4003732503905194e-07\n",
      "44\n",
      "1.4003732503905194e-07\n",
      "45\n",
      "1.4003732503905194e-07\n",
      "46\n",
      "1.5902433756220528e-09\n",
      "47\n",
      "1.5902433756220528e-09\n",
      "48\n",
      "2.2914280374825256e-09\n",
      "49\n",
      "2.2914280374825256e-09\n"
     ]
    },
    {
     "data": {
      "image/png": "[encoded data removed]",
      "text/plain": [
       "<Figure size 432x288 with 1 Axes>"
      ]
     },
     "metadata": {
      "needs_background": "light"
     },
     "output_type": "display_data"
    },
    {
     "data": {
      "text/plain": [
       "2.2914280374825256e-09"
      ]
     },
     "execution_count": 21,
     "metadata": {},
     "output_type": "execute_result"
    }
   ],
   "source": [
    "mutationRate = 0.05\n",
    "sigma =  10\n",
    "model = GeneticAlgorithm(numberOfGenerations, populationSize, tornumentSize, mutationRate, sigma, x, y)\n",
    "draw(x, y, model)\n",
    "model.fitness"
   ]
  },
  {
   "cell_type": "code",
   "execution_count": 13,
   "metadata": {},
   "outputs": [
    {
     "name": "stdout",
     "output_type": "stream",
     "text": [
      "0\n",
      "4.7139363779637907e-08\n",
      "1\n",
      "4.7139363779637907e-08\n",
      "2\n",
      "4.708316790602552e-08\n",
      "3\n",
      "4.708316790602552e-08\n",
      "4\n",
      "6.581144102552787e-08\n",
      "5\n",
      "6.879439003843708e-08\n",
      "6\n",
      "7.020387824696375e-08\n",
      "7\n",
      "7.020387824696375e-08\n",
      "8\n",
      "8.596891443276283e-08\n",
      "9\n",
      "8.596891443276283e-08\n",
      "10\n",
      "8.596891443276283e-08\n",
      "11\n",
      "9.10218043577671e-08\n",
      "12\n",
      "9.10218043577671e-08\n",
      "13\n",
      "9.10218043577671e-08\n",
      "14\n",
      "9.10218043577671e-08\n",
      "15\n",
      "9.623144636667011e-08\n",
      "16\n",
      "9.623144636667011e-08\n",
      "17\n",
      "1.4987363079814974e-07\n",
      "18\n",
      "1.495158796828208e-07\n",
      "19\n",
      "1.495158796828208e-07\n",
      "20\n",
      "3.665394825373111e-07\n",
      "21\n",
      "3.663190312325717e-07\n",
      "22\n",
      "3.663190312325717e-07\n",
      "23\n",
      "3.663190312325717e-07\n",
      "24\n",
      "4.091486255767944e-07\n",
      "25\n",
      "4.142323372244402e-07\n",
      "26\n",
      "5.678311667659282e-07\n",
      "27\n",
      "5.678311667659282e-07\n",
      "28\n",
      "1.1516119169147e-06\n",
      "29\n",
      "1.9806797939235927e-06\n",
      "30\n",
      "1.9806797939235927e-06\n",
      "31\n",
      "1.9806797939235927e-06\n",
      "32\n",
      "1.9806797939235927e-06\n",
      "33\n",
      "2.1819257770878242e-06\n",
      "34\n",
      "2.1819257770878242e-06\n",
      "35\n",
      "2.1816392870277555e-06\n",
      "36\n",
      "2.179645308986547e-06\n",
      "37\n",
      "2.179645308986547e-06\n",
      "38\n",
      "2.179645308986547e-06\n",
      "39\n",
      "2.179645308986547e-06\n",
      "40\n",
      "2.179645308986547e-06\n",
      "41\n",
      "2.179645308986547e-06\n",
      "42\n",
      "2.1799461484140252e-06\n",
      "43\n",
      "2.1799461484140252e-06\n",
      "44\n",
      "2.1799461484140252e-06\n",
      "45\n",
      "2.1799461484140252e-06\n",
      "46\n",
      "2.1799461484140252e-06\n",
      "47\n",
      "2.1799461484140252e-06\n",
      "48\n",
      "2.1799461484140252e-06\n",
      "49\n",
      "2.1799461484140252e-06\n"
     ]
    },
    {
     "data": {
      "image/png": "[encoded data removed]",
      "text/plain": [
       "<Figure size 432x288 with 1 Axes>"
      ]
     },
     "metadata": {
      "needs_background": "light"
     },
     "output_type": "display_data"
    },
    {
     "data": {
      "text/plain": [
       "2.1799461484140252e-06"
      ]
     },
     "execution_count": 13,
     "metadata": {},
     "output_type": "execute_result"
    }
   ],
   "source": [
    "numberOfGenerations = 50\n",
    "mutationRate = 0.05\n",
    "sigma =  1e-1\n",
    "model = GeneticAlgorithm(numberOfGenerations, populationSize, tornumentSize, mutationRate, sigma, x, y)\n",
    "draw(x, y, model)\n",
    "model.fitness"
   ]
  },
  {
   "cell_type": "code",
   "execution_count": 22,
   "metadata": {},
   "outputs": [
    {
     "name": "stdout",
     "output_type": "stream",
     "text": [
      "0\n",
      "2.490131783087048e-09\n",
      "1\n",
      "2.490131783087048e-09\n",
      "2\n",
      "2.490131783087048e-09\n",
      "3\n",
      "2.728412973856902e-09\n",
      "4\n",
      "2.728412973856902e-09\n",
      "5\n",
      "3.0356479474586167e-09\n",
      "6\n",
      "3.136517489815049e-09\n",
      "7\n",
      "3.136517489815049e-09\n",
      "8\n",
      "3.821930735471758e-09\n",
      "9\n",
      "3.821930735471758e-09\n",
      "10\n",
      "4.036193223279957e-09\n",
      "11\n",
      "4.1104914539883675e-09\n",
      "12\n",
      "3.85158307030042e-09\n",
      "13\n",
      "3.943552008932721e-09\n",
      "14\n",
      "3.948088266808508e-09\n",
      "15\n",
      "3.94774139057538e-09\n",
      "16\n",
      "4.293675619871213e-09\n",
      "17\n",
      "4.328831176609441e-09\n",
      "18\n",
      "4.34730604232714e-09\n",
      "19\n",
      "4.393422949783993e-09\n",
      "20\n",
      "4.39560622650148e-09\n",
      "21\n",
      "5.032267932067918e-09\n",
      "22\n",
      "5.032267932067918e-09\n",
      "23\n",
      "5.032267932067918e-09\n",
      "24\n",
      "5.067052110424587e-09\n",
      "25\n",
      "5.067020530088236e-09\n",
      "26\n",
      "5.106736224594185e-09\n",
      "27\n",
      "5.105064507740209e-09\n",
      "28\n",
      "5.14999238300565e-09\n",
      "29\n",
      "5.345972682480814e-09\n",
      "30\n",
      "5.342176801866357e-09\n",
      "31\n",
      "5.4193528421526595e-09\n",
      "32\n",
      "7.716326906064075e-09\n",
      "33\n",
      "9.900167544536979e-09\n",
      "34\n",
      "9.900167544536979e-09\n",
      "35\n",
      "9.900167544536979e-09\n",
      "36\n",
      "9.924243739248934e-09\n",
      "37\n",
      "1.0830004555713125e-08\n",
      "38\n",
      "1.0830004555713125e-08\n",
      "39\n",
      "1.047213163512026e-08\n",
      "40\n",
      "1.0470785216260244e-08\n",
      "41\n",
      "1.1319568519074591e-08\n",
      "42\n",
      "1.1319568519074591e-08\n",
      "43\n",
      "1.4607585126379648e-08\n",
      "44\n",
      "1.6945605215306016e-08\n",
      "45\n",
      "1.6942315337592983e-08\n",
      "46\n",
      "1.7895762549497246e-08\n",
      "47\n",
      "1.7895762549497246e-08\n",
      "48\n",
      "1.7893824326680598e-08\n",
      "49\n",
      "1.7893824326680598e-08\n"
     ]
    },
    {
     "data": {
      "image/png": "[encoded data removed]",
      "text/plain": [
       "<Figure size 432x288 with 1 Axes>"
      ]
     },
     "metadata": {
      "needs_background": "light"
     },
     "output_type": "display_data"
    },
    {
     "data": {
      "text/plain": [
       "1.7893824326680598e-08"
      ]
     },
     "execution_count": 22,
     "metadata": {},
     "output_type": "execute_result"
    }
   ],
   "source": [
    "mutationRate = 0.1\n",
    "sigma =  1e-1\n",
    "model = GeneticAlgorithm(numberOfGenerations, populationSize, tornumentSize, mutationRate, sigma, x, y)\n",
    "draw(x, y, model)\n",
    "model.fitness"
   ]
  },
  {
   "cell_type": "markdown",
   "metadata": {},
   "source": [
    "As you can see, if we increase sigma, when it become more than 1, the model's accuracy tends to decrease.\n",
    "As it is for mutationRate. The best model has mutationRate = 0.1 and sigma = 0.1. Values less or more than these can worsen the model.\n"
   ]
  }
 ],
 "metadata": {
  "kernelspec": {
   "display_name": "Python 3",
   "language": "python",
   "name": "python3"
  },
  "language_info": {
   "codemirror_mode": {
    "name": "ipython",
    "version": 3
   },
   "file_extension": ".py",
   "mimetype": "text/x-python",
   "name": "python",
   "nbconvert_exporter": "python",
   "pygments_lexer": "ipython3",
   "version": "3.7.1"
  }
 },
 "nbformat": 4,
 "nbformat_minor": 2
}
